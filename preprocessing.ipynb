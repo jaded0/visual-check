{
 "cells": [
  {
   "cell_type": "code",
   "execution_count": 1,
   "metadata": {},
   "outputs": [],
   "source": [
    "import subprocess as sub"
   ]
  },
  {
   "cell_type": "code",
   "execution_count": 4,
   "metadata": {},
   "outputs": [
    {
     "data": {
      "text/plain": [
       "CompletedProcess(args='pdftoppm -png -rx 50 -ry 50 pdfs/2112.10752.pdf pdfs/converted', returncode=0, stdout=b'', stderr=b'')"
      ]
     },
     "execution_count": 4,
     "metadata": {},
     "output_type": "execute_result"
    }
   ],
   "source": [
    "filename = \"2112.10752.pdf\"\n",
    "dpi = 50\n",
    "sub.run(f\"pdftoppm -png -rx {50} -ry {50} pdfs/{filename} pdfs/converted\", shell=True, capture_output=True)"
   ]
  },
  {
   "cell_type": "code",
   "execution_count": null,
   "metadata": {},
   "outputs": [],
   "source": [
    "sub.run(f\"pdfimages -png -p pdfs/{filename} pdfs/extracted\", shell=True, capture_output=True)"
   ]
  },
  {
   "cell_type": "code",
   "execution_count": 12,
   "metadata": {},
   "outputs": [
    {
     "data": {
      "text/plain": [
       "CompletedProcess(args='cd pdfs;pdflatex something.tex', returncode=0, stdout=b\"This is pdfTeX, Version 3.141592653-2.6-1.40.22 (TeX Live 2022/dev/Debian) (preloaded format=pdflatex)\\n restricted \\\\write18 enabled.\\nentering extended mode\\n(./something.tex\\nLaTeX2e <2021-11-15> patch level 1\\nL3 programming layer <2022-01-21>\\n(/usr/share/texlive/texmf-dist/tex/latex/base/article.cls\\nDocument Class: article 2021/10/04 v1.4n Standard LaTeX document class\\n(/usr/share/texlive/texmf-dist/tex/latex/base/size10.clo)) (./PRIMEarxiv.sty\\n(/usr/share/texlive/texmf-dist/tex/latex/geometry/geometry.sty\\n(/usr/share/texlive/texmf-dist/tex/latex/graphics/keyval.sty)\\n(/usr/share/texlive/texmf-dist/tex/generic/iftex/ifvtex.sty\\n(/usr/share/texlive/texmf-dist/tex/generic/iftex/iftex.sty)))\\n(/usr/share/texlive/texmf-dist/tex/latex/fancyhdr/fancyhdr.sty))\\n(/usr/share/texlive/texmf-dist/tex/latex/base/inputenc.sty)\\n(/usr/share/texlive/texmf-dist/tex/latex/base/fontenc.sty\\n(/usr/share/texlive/texmf-dist/tex/latex/psnfss/t1ptm.fd))\\n(/usr/share/texlive/texmf-dist/tex/latex/hyperref/hyperref.sty\\n(/usr/share/texlive/texmf-dist/tex/generic/ltxcmds/ltxcmds.sty)\\n(/usr/share/texlive/texmf-dist/tex/generic/pdftexcmds/pdftexcmds.sty\\n(/usr/share/texlive/texmf-dist/tex/generic/infwarerr/infwarerr.sty))\\n(/usr/share/texlive/texmf-dist/tex/generic/kvsetkeys/kvsetkeys.sty)\\n(/usr/share/texlive/texmf-dist/tex/generic/kvdefinekeys/kvdefinekeys.sty)\\n(/usr/share/texlive/texmf-dist/tex/generic/pdfescape/pdfescape.sty)\\n(/usr/share/texlive/texmf-dist/tex/latex/hycolor/hycolor.sty)\\n(/usr/share/texlive/texmf-dist/tex/latex/letltxmacro/letltxmacro.sty)\\n(/usr/share/texlive/texmf-dist/tex/latex/auxhook/auxhook.sty)\\n(/usr/share/texlive/texmf-dist/tex/latex/kvoptions/kvoptions.sty)\\n(/usr/share/texlive/texmf-dist/tex/latex/hyperref/pd1enc.def)\\n(/usr/share/texlive/texmf-dist/tex/latex/hyperref/hyperref-langpatches.def)\\n(/usr/share/texlive/texmf-dist/tex/generic/intcalc/intcalc.sty)\\n(/usr/share/texlive/texmf-dist/tex/generic/etexcmds/etexcmds.sty)\\n(/usr/share/texlive/texmf-dist/tex/latex/hyperref/puenc.def)\\n(/usr/share/texlive/texmf-dist/tex/latex/url/url.sty)\\n(/usr/share/texlive/texmf-dist/tex/generic/bitset/bitset.sty\\n(/usr/share/texlive/texmf-dist/tex/generic/bigintcalc/bigintcalc.sty))\\n(/usr/share/texlive/texmf-dist/tex/latex/base/atbegshi-ltx.sty))\\n(/usr/share/texlive/texmf-dist/tex/latex/hyperref/hpdftex.def\\n(/usr/share/texlive/texmf-dist/tex/latex/base/atveryend-ltx.sty)\\n(/usr/share/texlive/texmf-dist/tex/latex/rerunfilecheck/rerunfilecheck.sty\\n(/usr/share/texlive/texmf-dist/tex/generic/uniquecounter/uniquecounter.sty)))\\n(/usr/share/texlive/texmf-dist/tex/latex/booktabs/booktabs.sty)\\n(/usr/share/texlive/texmf-dist/tex/latex/amsfonts/amsfonts.sty)\\n(/usr/share/texlive/texmf-dist/tex/latex/units/nicefrac.sty\\n(/usr/share/texlive/texmf-dist/tex/latex/base/ifthen.sty))\\n(/usr/share/texlive/texmf-dist/tex/latex/microtype/microtype.sty\\n(/usr/share/texlive/texmf-dist/tex/latex/etoolbox/etoolbox.sty)\\n(/usr/share/texlive/texmf-dist/tex/latex/microtype/microtype-pdftex.def)\\n(/usr/share/texlive/texmf-dist/tex/latex/microtype/microtype.cfg))\\n(/usr/share/texlive/texmf-dist/tex/latex/lipsum/lipsum.sty\\n(/usr/share/texlive/texmf-dist/tex/latex/l3packages/l3keys2e/l3keys2e.sty\\n(/usr/share/texlive/texmf-dist/tex/latex/l3kernel/expl3.sty\\n(/usr/share/texlive/texmf-dist/tex/latex/l3backend/l3backend-pdftex.def)))\\n(/usr/share/texlive/texmf-dist/tex/latex/lipsum/lipsum.ltd.tex))\\n(/usr/share/texlive/texmf-dist/tex/latex/graphics/graphicx.sty\\n(/usr/share/texlive/texmf-dist/tex/latex/graphics/graphics.sty\\n(/usr/share/texlive/texmf-dist/tex/latex/graphics/trig.sty)\\n(/usr/share/texlive/texmf-dist/tex/latex/graphics-cfg/graphics.cfg)\\n(/usr/share/texlive/texmf-dist/tex/latex/graphics-def/pdftex.def)))\\n(./something.aux)\\n*geometry* driver: auto-detecting\\n*geometry* detected driver: pdftex\\n*geometry* verbose mode - [ preamble ] result:\\n* driver: pdftex\\n* paper: letterpaper\\n* layout: <same size as paper>\\n* layoutoffset:(h,v)=(0.0pt,0.0pt)\\n* modes: \\n* h-part:(L,W,R)=(92.14519pt, 430.00462pt, 92.14519pt)\\n* v-part:(T,H,B)=(95.39737pt, 556.47656pt, 143.09605pt)\\n* \\\\paperwidth=614.295pt\\n* \\\\paperheight=794.96999pt\\n* \\\\textwidth=430.00462pt\\n* \\\\textheight=556.47656pt\\n* \\\\oddsidemargin=19.8752pt\\n* \\\\evensidemargin=19.8752pt\\n* \\\\topmargin=-13.87262pt\\n* \\\\headheight=12.0pt\\n* \\\\headsep=25.0pt\\n* \\\\topskip=10.0pt\\n* \\\\footskip=30.0pt\\n* \\\\marginparwidth=65.0pt\\n* \\\\marginparsep=11.0pt\\n* \\\\columnsep=10.0pt\\n* \\\\skip\\\\footins=9.0pt plus 4.0pt minus 2.0pt\\n* \\\\hoffset=0.0pt\\n* \\\\voffset=0.0pt\\n* \\\\mag=1000\\n* \\\\@twocolumnfalse\\n* \\\\@twosidefalse\\n* \\\\@mparswitchfalse\\n* \\\\@reversemarginfalse\\n* (1in=72.27pt=25.4mm, 1cm=28.453pt)\\n\\n*geometry* verbose mode - [ newgeometry ] result:\\n* driver: pdftex\\n* paper: letterpaper\\n* layout: <same size as paper>\\n* layoutoffset:(h,v)=(0.0pt,0.0pt)\\n* modes: \\n* h-part:(L,W,R)=(72.27pt, 469.75499pt, 72.27pt)\\n* v-part:(T,H,B)=(72.26999pt, 650.43pt, 72.27pt)\\n* \\\\paperwidth=614.295pt\\n* \\\\paperheight=794.96999pt\\n* \\\\textwidth=469.75499pt\\n* \\\\textheight=650.43pt\\n* \\\\oddsidemargin=0.00002pt\\n* \\\\evensidemargin=0.00002pt\\n* \\\\topmargin=-39.0pt\\n* \\\\headheight=14.0pt\\n* \\\\headsep=25.0pt\\n* \\\\topskip=10.0pt\\n* \\\\footskip=30.0pt\\n* \\\\marginparwidth=65.0pt\\n* \\\\marginparsep=11.0pt\\n* \\\\columnsep=10.0pt\\n* \\\\skip\\\\footins=9.0pt plus 4.0pt minus 2.0pt\\n* \\\\hoffset=0.0pt\\n* \\\\voffset=0.0pt\\n* \\\\mag=1000\\n* \\\\@twocolumnfalse\\n* \\\\@twosidefalse\\n* \\\\@mparswitchfalse\\n* \\\\@reversemarginfalse\\n* (1in=72.27pt=25.4mm, 1cm=28.453pt)\\n\\n(/usr/share/texlive/texmf-dist/tex/latex/hyperref/nameref.sty\\n(/usr/share/texlive/texmf-dist/tex/latex/refcount/refcount.sty)\\n(/usr/share/texlive/texmf-dist/tex/generic/gettitlestring/gettitlestring.sty))\\n(./something.out) (./something.out)\\n(/usr/share/texlive/texmf-dist/tex/latex/microtype/mt-ptm.cfg)\\n(/usr/share/texlive/texmf-dist/tex/context/base/mkii/supp-pdf.mkii\\n[Loading MPS to PDF converter (version 2006.09.02).]\\n) (/usr/share/texlive/texmf-dist/tex/latex/epstopdf-pkg/epstopdf-base.sty\\n(/usr/share/texlive/texmf-dist/tex/latex/latexconfig/epstopdf-sys.cfg))\\n(/usr/share/texlive/texmf-dist/tex/latex/microtype/mt-cmr.cfg)\\n(/usr/share/texlive/texmf-dist/tex/latex/amsfonts/umsa.fd)\\n(/usr/share/texlive/texmf-dist/tex/latex/microtype/mt-msa.cfg)\\n(/usr/share/texlive/texmf-dist/tex/latex/amsfonts/umsb.fd)\\n(/usr/share/texlive/texmf-dist/tex/latex/microtype/mt-msb.cfg)\\n(/usr/share/texlive/texmf-dist/tex/latex/base/t1cmtt.fd)\\n\\nLaTeX Warning: Citation `videodiffusion' on page 1 undefined on input line 70.\\n\\n[1{/var/lib/texmf/fonts/map/pdftex/updmap/pdftex.map}]\\nUnderfull \\\\vbox (badness 10000) has occurred while \\\\output is active [2 <./medi\\na//book.png> <./media//bigbook.png> <./media//graph.png>]\\n\\nLaTeX Warning: Citation `8650524' on page 3 undefined on input line 101.\\n\\nNo file something.bbl.\\n[3 <./black_yes.png> <./lady_book.png>] (./something.aux)\\n\\nLaTeX Warning: There were undefined references.\\n\\n )\\n(see the transcript file for additional information) </home/jaden/.texlive2021/\\ntexmf-var/fonts/pk/ljfour/jknappen/ec/ectt0900.600pk>{/usr/share/texlive/texmf-\\ndist/fonts/enc/dvips/base/8r.enc} </home/jaden/.texlive2021/texmf-var/fonts/pk/\\nljfour/jknappen/ec/ectt1000.600pk></usr/share/texlive/texmf-dist/fonts/type1/pu\\nblic/amsfonts/cm/cmsy10.pfb></usr/share/texlive/texmf-dist/fonts/type1/public/a\\nmsfonts/cm/cmsy6.pfb></usr/share/texlive/texmf-dist/fonts/type1/urw/times/utmb8\\na.pfb></usr/share/texlive/texmf-dist/fonts/type1/urw/times/utmbi8a.pfb></usr/sh\\nare/texlive/texmf-dist/fonts/type1/urw/times/utmr8a.pfb></usr/share/texlive/tex\\nmf-dist/fonts/type1/urw/times/utmri8a.pfb>\\nOutput written on something.pdf (3 pages, 660746 bytes).\\nTranscript written on something.log.\\n\", stderr=b'')"
      ]
     },
     "execution_count": 12,
     "metadata": {},
     "output_type": "execute_result"
    }
   ],
   "source": [
    "lat = \"something.tex\"\n",
    "sub.run(f\"cd pdfs;pdflatex {lat}\", shell=True, capture_output=True)"
   ]
  }
 ],
 "metadata": {
  "kernelspec": {
   "display_name": "Python 3",
   "language": "python",
   "name": "python3"
  },
  "language_info": {
   "codemirror_mode": {
    "name": "ipython",
    "version": 3
   },
   "file_extension": ".py",
   "mimetype": "text/x-python",
   "name": "python",
   "nbconvert_exporter": "python",
   "pygments_lexer": "ipython3",
   "version": "3.10.6"
  },
  "orig_nbformat": 4
 },
 "nbformat": 4,
 "nbformat_minor": 2
}
