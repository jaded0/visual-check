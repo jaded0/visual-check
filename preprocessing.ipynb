{
 "cells": [
  {
   "cell_type": "code",
   "execution_count": 1,
   "metadata": {},
   "outputs": [],
   "source": [
    "import subprocess as sub"
   ]
  },
  {
   "cell_type": "code",
   "execution_count": 2,
   "metadata": {},
   "outputs": [
    {
     "data": {
      "text/plain": [
       "CompletedProcess(args='pdftoppm -png -rx 50 -ry 50 pdfs/2112.10752.pdf pdfs/converted', returncode=0, stdout=b'', stderr=b'')"
      ]
     },
     "execution_count": 2,
     "metadata": {},
     "output_type": "execute_result"
    }
   ],
   "source": [
    "filename = \"2112.10752.pdf\"\n",
    "import subprocess as sub\n",
    "dpi = 150\n",
    "sub.run(f\"pdftoppm -png -rx {dpi} -ry {dpi} pdfs/{filename} pdfs/converted\", shell=True, capture_output=True)"
   ]
  },
  {
   "cell_type": "code",
   "execution_count": 13,
   "metadata": {},
   "outputs": [],
   "source": [
    "# import glob\n",
    "# import time\n",
    "# import subprocess as sub\n",
    "# from tqdm import tqdm\n",
    "\n",
    "# pdfs = glob.glob('pdfs/2302/*')\n",
    "# dpi = 150\n",
    "\n",
    "# for i, pdf in enumerate(tqdm(pdfs)):\n",
    "#     # time.sleep(1)\n",
    "#     sub.run(f\"pdftoppm -png -rx {dpi} -ry {dpi} {pdf} pdfs/images/{i}\", shell=True, capture_output=True)"
   ]
  },
  {
   "cell_type": "code",
   "execution_count": 27,
   "metadata": {},
   "outputs": [
    {
     "name": "stdout",
     "output_type": "stream",
     "text": [
      "218721\n"
     ]
    }
   ],
   "source": [
    "import glob\n",
    "imgs = glob.glob('pdfs/bigmages/*')\n",
    "print(len(imgs))"
   ]
  },
  {
   "cell_type": "code",
   "execution_count": 25,
   "metadata": {},
   "outputs": [
    {
     "name": "stdout",
     "output_type": "stream",
     "text": [
      "21497\n"
     ]
    }
   ],
   "source": [
    "oldmgs = glob.glob('pdfs/images/*')\n",
    "print(len(oldmgs))"
   ]
  },
  {
   "cell_type": "code",
   "execution_count": null,
   "metadata": {},
   "outputs": [],
   "source": [
    "sub.run(f\"pdfimages -png -p pdfs/{filename} pdfs/extracted\", shell=True, capture_output=True)"
   ]
  },
  {
   "cell_type": "code",
   "execution_count": 14,
   "metadata": {},
   "outputs": [
    {
     "name": "stdout",
     "output_type": "stream",
     "text": [
      "/home/jaded79/visual-check\n",
      "This is pdfTeX, Version 3.141592653-2.6-1.40.25 (TeX Live 2023) (preloaded format=pdflatex)\n",
      " restricted \\write18 enabled.\n",
      "entering extended mode\n",
      "(./something.tex\n",
      "LaTeX2e <2022-11-01> patch level 1\n",
      "L3 programming layer <2023-02-22>\n",
      "(/home/jaded79/texlive/texmf-dist/tex/latex/base/article.cls\n",
      "Document Class: article 2022/07/02 v1.4n Standard LaTeX document class\n",
      "(/home/jaded79/texlive/texmf-dist/tex/latex/base/size10.clo)) (./PRIMEarxiv.sty\n",
      " (/home/jaded79/texlive/texmf-dist/tex/latex/geometry/geometry.sty\n",
      "(/home/jaded79/texlive/texmf-dist/tex/latex/graphics/keyval.sty)\n",
      "(/home/jaded79/texlive/texmf-dist/tex/generic/iftex/ifvtex.sty\n",
      "(/home/jaded79/texlive/texmf-dist/tex/generic/iftex/iftex.sty)))\n",
      "(/home/jaded79/texlive/texmf-dist/tex/latex/fancyhdr/fancyhdr.sty))\n",
      "(/home/jaded79/texlive/texmf-dist/tex/latex/base/inputenc.sty)\n",
      "(/home/jaded79/texlive/texmf-dist/tex/latex/base/fontenc.sty\n",
      "(/home/jaded79/texlive/texmf-dist/tex/latex/psnfss/t1ptm.fd)\n",
      "! Font T1/ptm/m/n/10=ptmr8t at 10.0pt not loadable: Metric (TFM) file not found\n",
      ".\n",
      "<to be read again> \n",
      "                   relax \n",
      "l.112 ...\\familydefault\\seriesdefault\\shapedefault\n",
      "                                                  \n",
      "? \n",
      "! Emergency stop.\n",
      "<to be read again> \n",
      "                   relax \n",
      "l.112 ...\\familydefault\\seriesdefault\\shapedefault\n",
      "                                                  \n",
      "!  ==> Fatal error occurred, no output PDF file produced!\n",
      "Transcript written on something.log.\n",
      "\n"
     ]
    }
   ],
   "source": [
    "!pwd\n",
    "lat = \"something.tex\"\n",
    "print(sub.run(f\"/home/jaded79/texlive/bin/x86_64-linux/pdflatex {lat}\", shell=True, capture_output=True, cwd=\"/home/jaded79/visual-check/pdfs/\").stdout.decode(\"utf-8\"))"
   ]
  },
  {
   "cell_type": "code",
   "execution_count": 53,
   "metadata": {},
   "outputs": [
    {
     "name": "stdout",
     "output_type": "stream",
     "text": [
      "\n",
      "\\documentclass{article}\n",
      "\\begin{document}\n",
      "Hello, world!\n",
      "\\end{document}\n",
      "\n",
      "This is pdfTeX, Version 3.141592653-2.6-1.40.25 (TeX Live 2023) (preloaded format=pdflatex)\n",
      " restricted \\write18 enabled.\n",
      "entering extended mode\n",
      "(/tmp/tmpuw5k8cr1/temp.tex\n",
      "LaTeX2e <2022-11-01> patch level 1\n",
      "L3 programming layer <2023-02-22>\n",
      "(/home/jaded79/texlive/texmf-dist/tex/latex/base/article.cls\n",
      "Document Class: article 2022/07/02 v1.4n Standard LaTeX document class\n",
      "(/home/jaded79/texlive/texmf-dist/tex/latex/base/size10.clo))\n",
      "(/home/jaded79/texlive/texmf-dist/tex/latex/l3backend/l3backend-pdftex.def)\n",
      "No file temp.aux.\n",
      "[1{/home/jaded79/texlive/texmf-var/fonts/map/pdftex/updmap/pdftex.map}]\n",
      "(/tmp/tmpuw5k8cr1/temp.aux) )</home/jaded79/texlive/texmf-dist/fonts/type1/publ\n",
      "ic/amsfonts/cm/cmr10.pfb>\n",
      "Output written on /tmp/tmpuw5k8cr1/temp.pdf (1 page, 12875 bytes).\n",
      "Transcript written on /tmp/tmpuw5k8cr1/temp.log.\n"
     ]
    },
    {
     "data": {
      "image/png": "[encoded data removed]",
      "text/plain": [
       "<PIL.PngImagePlugin.PngImageFile image mode=RGB size=1241x1754>"
      ]
     },
     "execution_count": 53,
     "metadata": {},
     "output_type": "execute_result"
    }
   ],
   "source": [
    "from PIL import Image\n",
    "import io\n",
    "import subprocess as sub\n",
    "\n",
    "# convert latex to image in memory\n",
    "def latex_to_image(latex_str: str, dpi: int = 150) -> Image.Image:\n",
    "    # Compile the LaTeX code into a PDF using pdflatex\n",
    "    print(type(latex_str))\n",
    "    encoded_str = latex_str\n",
    "    latex_process = sub.run(\n",
    "        [\"/home/jaded79/texlive/bin/x86_64-linux/pdflatex\", \"-halt-on-error\", \"-jobname\", \"temp\", \"-output-format\", \"pdf\", \"-\"],\n",
    "        input=encoded_str,\n",
    "        stdout=sub.PIPE,\n",
    "        # stderr=sub.PIPE,\n",
    "        check=True,\n",
    "        # capture_output=True,\n",
    "        text=True,\n",
    "        shell=True\n",
    "    )\n",
    "\n",
    "\n",
    "    if latex_process.returncode != 0:\n",
    "        raise RuntimeError(f\"pdflatex failed: {latex_process.stderr}\")\n",
    "\n",
    "    print(\"latex_process\")\n",
    "    print(latex_process.stdout)\n",
    "    # Read the generated PDF into a BytesIO object\n",
    "    print(\"latex_process.stdout.encode()\")\n",
    "    pdf_data = io.BytesIO(latex_process.stdout.encode())\n",
    "    print(\"pdf_data\")\n",
    "    print(pdf_data.getvalue())\n",
    "    print('done with that')\n",
    "    # Run pdftoppm on the PDF data to generate the image\n",
    "    pdftoppm_process = sub.run(\n",
    "        [\"/bin/pdftoppm\", \"-png\", \"-rx\", \"150\", \"-ry\", \"150\", \"-\", \"-\"],\n",
    "        input=pdf_data.getvalue(),\n",
    "        capture_output=True,\n",
    "        # check=True,\n",
    "    )\n",
    "\n",
    "    print(pdftoppm_process.stderr.decode())\n",
    "\n",
    "    if pdftoppm_process.returncode != 0:\n",
    "        raise RuntimeError(f\"pdftoppm failed: {pdftoppm_process.stderr}\")\n",
    "\n",
    "    # Read the generated image into a BytesIO object\n",
    "    image_data = io.BytesIO(pdftoppm_process.stdout)\n",
    "\n",
    "    # Open the image using PIL\n",
    "    image = Image.open(image_data)\n",
    "\n",
    "    return image\n",
    "\n",
    "import tempfile\n",
    "import os\n",
    "from pdf2image import convert_from_bytes, convert_from_path\n",
    "\n",
    "\n",
    "def latex_to_image_tempfile(latex_str: str) -> Image.Image:\n",
    "    # Create a temporary directory\n",
    "    with tempfile.TemporaryDirectory() as tmpdir:\n",
    "        # Save the LaTeX string to a temporary .tex file\n",
    "        tex_path = os.path.join(tmpdir, \"temp.tex\")\n",
    "        with open(tex_path, \"w\") as tex_file:\n",
    "            tex_file.write(latex_str)\n",
    "\n",
    "        # Run pdflatex on the .tex file to generate the PDF\n",
    "        pdf_path = os.path.join(tmpdir, \"temp.pdf\")\n",
    "        sub.run([\"/home/jaded79/texlive/bin/x86_64-linux/pdflatex\", \"-output-directory\", tmpdir, tex_path], check=True)\n",
    "\n",
    "        # Convert the PDF to an image using pdf2image\n",
    "        images = convert_from_path(pdf_path, dpi=150, fmt=\"png\")\n",
    "\n",
    "        return images[0]\n",
    "\n",
    "latex_str = r\"\"\"\n",
    "\\documentclass{article}\n",
    "\\begin{document}\n",
    "Hello, world!\n",
    "\\end{document}\n",
    "\"\"\"\n",
    "print(latex_str)\n",
    "image = latex_to_image_tempfile(latex_str)\n",
    "# image.show()\n",
    "# image.save(\"test.png\")\n",
    "image"
   ]
  },
  {
   "cell_type": "code",
   "execution_count": 61,
   "metadata": {},
   "outputs": [
    {
     "name": "stderr",
     "output_type": "stream",
     "text": [
      "Loading checkpoint shards:   0%|          | 0/2 [00:00<?, ?it/s]"
     ]
    },
    {
     "ename": "",
     "evalue": "",
     "output_type": "error",
     "traceback": [
      "\u001b[1;31mThe Kernel crashed while executing code in the the current cell or a previous cell. Please review the code in the cell(s) to identify a possible cause of the failure. Click <a href='https://aka.ms/vscodeJupyterKernelCrash'>here</a> for more info. View Jupyter <a href='command:jupyter.viewOutput'>log</a> for further details."
     ]
    },
    {
     "ename": "",
     "evalue": "",
     "output_type": "error",
     "traceback": [
      "\u001b[1;31mCanceled future for execute_request message before replies were done"
     ]
    }
   ],
   "source": [
    "from truereader import TrueReader\n",
    "from dataclasses import dataclass, field\n",
    "\n",
    "model = TrueReader.from_pretrained(\n",
    "    \"/home/jaded79/visual-check/llama_weights/\",\n",
    "    # cache_dir=field(default=None),\n",
    ")\n"
   ]
  }
 ],
 "metadata": {
  "kernelspec": {
   "display_name": "Python 3",
   "language": "python",
   "name": "python3"
  },
  "language_info": {
   "codemirror_mode": {
    "name": "ipython",
    "version": 3
   },
   "file_extension": ".py",
   "mimetype": "text/x-python",
   "name": "python",
   "nbconvert_exporter": "python",
   "pygments_lexer": "ipython3",
   "version": "3.11.0"
  },
  "orig_nbformat": 4
 },
 "nbformat": 4,
 "nbformat_minor": 2
}
